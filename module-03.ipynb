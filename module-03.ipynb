{
 "cells": [
  {
   "metadata": {
    "trusted": true
   },
   "cell_type": "code",
   "source": "from PIL import ImageDraw, Image\nfrom IPython.display import display",
   "execution_count": 7,
   "outputs": []
  },
  {
   "metadata": {
    "trusted": true
   },
   "cell_type": "code",
   "source": "width, height = 200, 200\n\nimage = Image.new('RGB', (width, height), 'white')\n\ndraw = ImageDraw.Draw(image)",
   "execution_count": 8,
   "outputs": []
  },
  {
   "metadata": {
    "trusted": true
   },
   "cell_type": "code",
   "source": "start_point = (50, 50)\nend_point = (150, 150)\n\nline_color = (0, 0, 0)\nline_width = 3\n\ndraw.line([start_point, end_point], fill=line_color, width=line_width)\n\ndisplay(image)",
   "execution_count": 9,
   "outputs": [
    {
     "output_type": "display_data",
     "data": {
      "text/plain": "<PIL.Image.Image image mode=RGB size=200x200 at 0x1404BEF20>",
      "image/png": "[encoded data removed]"
     },
     "metadata": {}
    }
   ]
  }
 ],
 "metadata": {
  "kernelspec": {
   "name": "python3",
   "display_name": "Python 3",
   "language": "python"
  },
  "language_info": {
   "name": "python",
   "version": "3.10.4",
   "mimetype": "text/x-python",
   "codemirror_mode": {
    "name": "ipython",
    "version": 3
   },
   "pygments_lexer": "ipython3",
   "nbconvert_exporter": "python",
   "file_extension": ".py"
  }
 },
 "nbformat": 4,
 "nbformat_minor": 2
}